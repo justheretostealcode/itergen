{
 "cells": [
  {
   "cell_type": "code",
   "execution_count": 1,
   "metadata": {},
   "outputs": [
    {
     "name": "stderr",
     "output_type": "stream",
     "text": [
      "/home/shubham/anaconda3/envs/codex/lib/python3.11/site-packages/tqdm/auto.py:21: TqdmWarning: IProgress not found. Please update jupyter and ipywidgets. See https://ipywidgets.readthedocs.io/en/stable/user_install.html\n",
      "  from .autonotebook import tqdm as notebook_tqdm\n",
      "Loading checkpoint shards: 100%|██████████| 2/2 [00:00<00:00,  2.24it/s]\n"
     ]
    }
   ],
   "source": [
    "import sys, os\n",
    "sys.path.append(os.getcwd() + '/../')\n",
    "from itergen.main import IterGen\n",
    "from itergen import Dataset\n",
    "from itergen.syncode.syncode.evaluation.sql_eval import SQLEval\n",
    "\n",
    "json_dataset = Dataset('spider', language='json')\n",
    "iter_gen = IterGen(grammar='sql', model_id=\"meta-llama/Llama-2-7b-chat-hf\", parse_output_only=True, do_sample=True, temperature=0.5, stop_strings=['\\n\\n'], max_new_tokens=100)"
   ]
  },
  {
   "cell_type": "code",
   "execution_count": null,
   "metadata": {},
   "outputs": [],
   "source": [
    "\n",
    "def exists_column(schema, column_name):\n",
    "        return True\n",
    "    \n",
    "def exists_table(schema, table_name):\n",
    "        return True\n",
    "\n",
    "def generate_sql(self, problem):\n",
    "    iter_gen = IterGen(grammar='sql', model_id=\"meta-llama/Llama-2-7b-chat-hf\", parse_output_only=True, do_sample=True, temperature=0.5)\n",
    "\n",
    "    iter_gen.start(problem['prompt'])\n",
    "    schema = problem['schema']\n",
    "    \n",
    "    while not iter_gen.finished():\n",
    "        out = iter_gen.forward('name', num=1)\n",
    "\n",
    "        last_column = iter_gen.view('column_name')[-1]         \n",
    "        if not exists_column(schema, last_column):\n",
    "            iter_gen.backward('column_name')\n",
    "            continue\n",
    "\n",
    "        last_table = iter_gen.view('table_name')[-1]\n",
    "        if not exists_table(schema, last_table):\n",
    "            iter_gen.backward('table_name')\n",
    "            continue     \n",
    "        print(out)\n",
    "    return out"
   ]
  },
  {
   "cell_type": "code",
   "execution_count": 10,
   "metadata": {},
   "outputs": [
    {
     "name": "stderr",
     "output_type": "stream",
     "text": [
      "  9%|▉         | 9/100 [01:52<18:59, 12.52s/it]"
     ]
    },
    {
     "name": "stderr",
     "output_type": "stream",
     "text": [
      "\n"
     ]
    },
    {
     "ename": "KeyError",
     "evalue": "(__ANON_4, 3)",
     "output_type": "error",
     "traceback": [
      "\u001b[0;31m---------------------------------------------------------------------------\u001b[0m",
      "\u001b[0;31mKeyError\u001b[0m                                  Traceback (most recent call last)",
      "Cell \u001b[0;32mIn[10], line 12\u001b[0m\n\u001b[1;32m     10\u001b[0m \u001b[38;5;28;01mfor\u001b[39;00m task_id, problem \u001b[38;5;129;01min\u001b[39;00m \u001b[38;5;28menumerate\u001b[39m(problems):\n\u001b[1;32m     11\u001b[0m     iter_gen\u001b[38;5;241m.\u001b[39mstart(problem[\u001b[38;5;124m'\u001b[39m\u001b[38;5;124mprompt\u001b[39m\u001b[38;5;124m'\u001b[39m])\n\u001b[0;32m---> 12\u001b[0m     out \u001b[38;5;241m=\u001b[39m \u001b[43miter_gen\u001b[49m\u001b[38;5;241;43m.\u001b[39;49m\u001b[43mforward\u001b[49m\u001b[43m(\u001b[49m\u001b[43m)\u001b[49m\n\u001b[1;32m     14\u001b[0m     raw_completion \u001b[38;5;241m=\u001b[39m out[\u001b[38;5;241m0\u001b[39m]\n\u001b[1;32m     15\u001b[0m     completion \u001b[38;5;241m=\u001b[39m json_dataset\u001b[38;5;241m.\u001b[39mpost_process_answer(raw_completion)\n",
      "File \u001b[0;32m~/anaconda3/envs/codex/lib/python3.11/site-packages/torch/utils/_contextlib.py:115\u001b[0m, in \u001b[0;36mcontext_decorator.<locals>.decorate_context\u001b[0;34m(*args, **kwargs)\u001b[0m\n\u001b[1;32m    112\u001b[0m \u001b[38;5;129m@functools\u001b[39m\u001b[38;5;241m.\u001b[39mwraps(func)\n\u001b[1;32m    113\u001b[0m \u001b[38;5;28;01mdef\u001b[39;00m \u001b[38;5;21mdecorate_context\u001b[39m(\u001b[38;5;241m*\u001b[39margs, \u001b[38;5;241m*\u001b[39m\u001b[38;5;241m*\u001b[39mkwargs):\n\u001b[1;32m    114\u001b[0m     \u001b[38;5;28;01mwith\u001b[39;00m ctx_factory():\n\u001b[0;32m--> 115\u001b[0m         \u001b[38;5;28;01mreturn\u001b[39;00m \u001b[43mfunc\u001b[49m\u001b[43m(\u001b[49m\u001b[38;5;241;43m*\u001b[39;49m\u001b[43margs\u001b[49m\u001b[43m,\u001b[49m\u001b[43m \u001b[49m\u001b[38;5;241;43m*\u001b[39;49m\u001b[38;5;241;43m*\u001b[39;49m\u001b[43mkwargs\u001b[49m\u001b[43m)\u001b[49m\n",
      "File \u001b[0;32m~/itergen/itergen/main.py:181\u001b[0m, in \u001b[0;36mIterGen.forward\u001b[0;34m(self, unit, num, **gen_args)\u001b[0m\n\u001b[1;32m    178\u001b[0m next_token_scores \u001b[38;5;241m=\u001b[39m outputs\u001b[38;5;241m.\u001b[39mlogits[:, \u001b[38;5;241m-\u001b[39m\u001b[38;5;241m1\u001b[39m, :]\n\u001b[1;32m    180\u001b[0m \u001b[38;5;66;03m# Update logits processor\u001b[39;00m\n\u001b[0;32m--> 181\u001b[0m mask \u001b[38;5;241m=\u001b[39m torch\u001b[38;5;241m.\u001b[39mstack(\u001b[43m[\u001b[49m\u001b[38;5;28;43mself\u001b[39;49m\u001b[38;5;241;43m.\u001b[39;49m\u001b[43mdfa_mask_store\u001b[49m\u001b[38;5;241;43m.\u001b[39;49m\u001b[43mget_accept_mask\u001b[49m\u001b[43m(\u001b[49m\u001b[43mparse_results\u001b[49m\u001b[43m[\u001b[49m\u001b[43midx\u001b[49m\u001b[43m]\u001b[49m\u001b[43m)\u001b[49m\u001b[43m \u001b[49m\u001b[38;5;28;43;01mfor\u001b[39;49;00m\u001b[43m \u001b[49m\u001b[43midx\u001b[49m\u001b[43m \u001b[49m\u001b[38;5;129;43;01min\u001b[39;49;00m\u001b[43m \u001b[49m\u001b[38;5;28;43mrange\u001b[39;49m\u001b[43m(\u001b[49m\u001b[38;5;28;43mself\u001b[39;49m\u001b[38;5;241;43m.\u001b[39;49m\u001b[43mnum_outputs\u001b[49m\u001b[43m)\u001b[49m\u001b[43m]\u001b[49m)\n\u001b[1;32m    182\u001b[0m next_token_scores \u001b[38;5;241m=\u001b[39m \u001b[38;5;28mself\u001b[39m\u001b[38;5;241m.\u001b[39m_apply_mask(mask, next_token_scores)\n\u001b[1;32m    184\u001b[0m \u001b[38;5;66;03m# Select the next token\u001b[39;00m\n",
      "File \u001b[0;32m~/itergen/itergen/main.py:181\u001b[0m, in \u001b[0;36m<listcomp>\u001b[0;34m(.0)\u001b[0m\n\u001b[1;32m    178\u001b[0m next_token_scores \u001b[38;5;241m=\u001b[39m outputs\u001b[38;5;241m.\u001b[39mlogits[:, \u001b[38;5;241m-\u001b[39m\u001b[38;5;241m1\u001b[39m, :]\n\u001b[1;32m    180\u001b[0m \u001b[38;5;66;03m# Update logits processor\u001b[39;00m\n\u001b[0;32m--> 181\u001b[0m mask \u001b[38;5;241m=\u001b[39m torch\u001b[38;5;241m.\u001b[39mstack([\u001b[38;5;28;43mself\u001b[39;49m\u001b[38;5;241;43m.\u001b[39;49m\u001b[43mdfa_mask_store\u001b[49m\u001b[38;5;241;43m.\u001b[39;49m\u001b[43mget_accept_mask\u001b[49m\u001b[43m(\u001b[49m\u001b[43mparse_results\u001b[49m\u001b[43m[\u001b[49m\u001b[43midx\u001b[49m\u001b[43m]\u001b[49m\u001b[43m)\u001b[49m \u001b[38;5;28;01mfor\u001b[39;00m idx \u001b[38;5;129;01min\u001b[39;00m \u001b[38;5;28mrange\u001b[39m(\u001b[38;5;28mself\u001b[39m\u001b[38;5;241m.\u001b[39mnum_outputs)])\n\u001b[1;32m    182\u001b[0m next_token_scores \u001b[38;5;241m=\u001b[39m \u001b[38;5;28mself\u001b[39m\u001b[38;5;241m.\u001b[39m_apply_mask(mask, next_token_scores)\n\u001b[1;32m    184\u001b[0m \u001b[38;5;66;03m# Select the next token\u001b[39;00m\n",
      "File \u001b[0;32m~/itergen/itergen/syncode/syncode/dfa_mask_store.py:491\u001b[0m, in \u001b[0;36mDFAMaskStore.get_accept_mask\u001b[0;34m(self, r, get_list, logger)\u001b[0m\n\u001b[1;32m    488\u001b[0m     \u001b[38;5;28;01mreturn\u001b[39;00m torch\u001b[38;5;241m.\u001b[39mones(\u001b[38;5;28mlen\u001b[39m(\u001b[38;5;28mself\u001b[39m\u001b[38;5;241m.\u001b[39m_vocab), dtype\u001b[38;5;241m=\u001b[39mtorch\u001b[38;5;241m.\u001b[39mbool)\n\u001b[1;32m    490\u001b[0m cur_dfa_states \u001b[38;5;241m=\u001b[39m \u001b[38;5;28mself\u001b[39m\u001b[38;5;241m.\u001b[39m_dfas\u001b[38;5;241m.\u001b[39mcompute_dfa_states(cur_incomplete_string)\n\u001b[0;32m--> 491\u001b[0m accept_token_mask \u001b[38;5;241m=\u001b[39m \u001b[38;5;28;43mself\u001b[39;49m\u001b[38;5;241;43m.\u001b[39;49m\u001b[43m_lookup_next_tokens\u001b[49m\u001b[43m(\u001b[49m\u001b[43mcur_dfa_states\u001b[49m\u001b[43m,\u001b[49m\u001b[43m \u001b[49m\u001b[43mr\u001b[49m\u001b[43m)\u001b[49m\n\u001b[1;32m    493\u001b[0m \u001b[38;5;28;01mif\u001b[39;00m \u001b[38;5;28mself\u001b[39m\u001b[38;5;241m.\u001b[39mindentation \u001b[38;5;129;01mand\u001b[39;00m r\u001b[38;5;241m.\u001b[39mnext_ac_indents \u001b[38;5;129;01mis\u001b[39;00m \u001b[38;5;129;01mnot\u001b[39;00m \u001b[38;5;28;01mNone\u001b[39;00m:\n\u001b[1;32m    494\u001b[0m     indent_ac_token \u001b[38;5;241m=\u001b[39m \u001b[38;5;28mself\u001b[39m\u001b[38;5;241m.\u001b[39m_lookup_table\u001b[38;5;241m.\u001b[39mget_indentation_tokens(r\u001b[38;5;241m.\u001b[39mnext_ac_indents)\n",
      "File \u001b[0;32m~/itergen/itergen/syncode/syncode/dfa_mask_store.py:443\u001b[0m, in \u001b[0;36mDFAMaskStore._lookup_next_tokens\u001b[0;34m(self, dfa_states, r)\u001b[0m\n\u001b[1;32m    440\u001b[0m         overapprox_token_ids \u001b[38;5;241m|\u001b[39m\u001b[38;5;241m=\u001b[39m \u001b[38;5;28mself\u001b[39m\u001b[38;5;241m.\u001b[39m_lookup_table\u001b[38;5;241m.\u001b[39mcomplete_case_lookup(dfa_state)\n\u001b[1;32m    442\u001b[0m \u001b[38;5;28;01mif\u001b[39;00m r\u001b[38;5;241m.\u001b[39mremainder_state \u001b[38;5;241m==\u001b[39m RemainderState\u001b[38;5;241m.\u001b[39mINCOMPLETE:\n\u001b[0;32m--> 443\u001b[0m         overapprox_token_ids \u001b[38;5;241m|\u001b[39m\u001b[38;5;241m=\u001b[39m \u001b[38;5;28;43mself\u001b[39;49m\u001b[38;5;241;43m.\u001b[39;49m\u001b[43m_lookup_table\u001b[49m\u001b[38;5;241;43m.\u001b[39;49m\u001b[43mincomplete_case_lookup\u001b[49m\u001b[43m(\u001b[49m\u001b[43mdfa_state\u001b[49m\u001b[43m)\u001b[49m\n\u001b[1;32m    445\u001b[0m \u001b[38;5;28;01mif\u001b[39;00m r\u001b[38;5;241m.\u001b[39mremainder_state \u001b[38;5;241m==\u001b[39m RemainderState\u001b[38;5;241m.\u001b[39mMAYBE_COMPLETE:\n\u001b[1;32m    446\u001b[0m         \u001b[38;5;28;01mif\u001b[39;00m \u001b[38;5;28mlen\u001b[39m(accept_sequence) \u001b[38;5;241m==\u001b[39m \u001b[38;5;241m1\u001b[39m:\n",
      "File \u001b[0;32m~/itergen/itergen/syncode/syncode/dfa_mask_store.py:155\u001b[0m, in \u001b[0;36mLookupTable.incomplete_case_lookup\u001b[0;34m(self, dfa_state)\u001b[0m\n\u001b[1;32m    153\u001b[0m     \u001b[38;5;28;01mreturn\u001b[39;00m \u001b[38;5;28mself\u001b[39m\u001b[38;5;241m.\u001b[39m_overapprox_lookup[dfa_state]\n\u001b[1;32m    154\u001b[0m \u001b[38;5;28;01melif\u001b[39;00m \u001b[38;5;28mself\u001b[39m\u001b[38;5;241m.\u001b[39m_mode \u001b[38;5;241m==\u001b[39m \u001b[38;5;124m'\u001b[39m\u001b[38;5;124mgrammar_strict\u001b[39m\u001b[38;5;124m'\u001b[39m:\n\u001b[0;32m--> 155\u001b[0m     \u001b[38;5;28;01mreturn\u001b[39;00m \u001b[38;5;28;43mself\u001b[39;49m\u001b[38;5;241;43m.\u001b[39;49m\u001b[43m_exact_lookup\u001b[49m\u001b[43m[\u001b[49m\u001b[43mdfa_state\u001b[49m\u001b[43m]\u001b[49m\n\u001b[1;32m    156\u001b[0m \u001b[38;5;28;01mraise\u001b[39;00m \u001b[38;5;167;01mValueError\u001b[39;00m(\u001b[38;5;124mf\u001b[39m\u001b[38;5;124m\"\u001b[39m\u001b[38;5;124mInvalid mode: \u001b[39m\u001b[38;5;132;01m{\u001b[39;00m\u001b[38;5;28mself\u001b[39m\u001b[38;5;241m.\u001b[39m_mode\u001b[38;5;132;01m}\u001b[39;00m\u001b[38;5;124m\"\u001b[39m)\n",
      "\u001b[0;31mKeyError\u001b[0m: (__ANON_4, 3)"
     ]
    }
   ],
   "source": [
    "from tqdm import tqdm\n",
    "\n",
    "samples = []\n",
    "tmp_res_file = '/tmp/sql_output.txt'\n",
    "f = open(tmp_res_file, 'w')\n",
    "problems = json_dataset.problems[:100]\n",
    "pbar = tqdm(total=len(problems))\n",
    "\n",
    "\n",
    "for task_id, problem in enumerate(problems):\n",
    "    iter_gen.start(problem['prompt'])\n",
    "    out = iter_gen.forward()\n",
    "\n",
    "    raw_completion = out[0]\n",
    "    completion = json_dataset.post_process_answer(raw_completion)\n",
    "    res = dict(\n",
    "        task_id=task_id,\n",
    "        completion=completion,\n",
    "    )\n",
    "    samples += [res]\n",
    "    f.write(completion + '\\n')\n",
    "    pbar.update(1)\n",
    "\n",
    "pbar.close()\n",
    "f.close()\n",
    "\n",
    "SQLEval.compute_accuracy(samples, tmp_res_file)"
   ]
  }
 ],
 "metadata": {
  "kernelspec": {
   "display_name": "codex",
   "language": "python",
   "name": "python3"
  },
  "language_info": {
   "codemirror_mode": {
    "name": "ipython",
    "version": 3
   },
   "file_extension": ".py",
   "mimetype": "text/x-python",
   "name": "python",
   "nbconvert_exporter": "python",
   "pygments_lexer": "ipython3",
   "version": "3.11.4"
  }
 },
 "nbformat": 4,
 "nbformat_minor": 2
}
