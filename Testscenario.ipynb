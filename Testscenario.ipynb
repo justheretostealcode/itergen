{
 "cells": [
  {
   "cell_type": "code",
   "execution_count": null,
   "id": "78299456",
   "metadata": {
    "vscode": {
     "languageId": "plaintext"
    }
   },
   "outputs": [],
   "source": [
    "from itergen.main import IterGen\n",
    "\n",
    "# Define the grammar\n",
    "grammar = \"\"\"\n",
    "start: paragraph\n",
    "paragraph: sentence+\n",
    "sentence: word+ sentence_end\n",
    "word: /[a-zA-Z0-9]+/ | other_punctuations\n",
    "sentence_end: \".\" | \"!\" | \"?\"\n",
    "other_punctuations: \",\" | \";\" | \":\" | \"'\"\n",
    "%ignore \" \"\n",
    "\"\"\"\n",
    "\n",
    "# Initialize IterGen with the grammar and a model with Hugging Face model ID\n",
    "iter_gen = IterGen(grammar=grammar, model_id=\"microsoft/Phi-3-mini-128k-instruct\", max_tokens=50)\n",
    "prompt = \"Once upon a time\"\n",
    "\n",
    "# Start generation\n",
    "iter_gen.start(prompt)\n",
    "\n",
    "# Generate one sentence\n",
    "generated_sentence = iter_gen.forward(stop_symbol=\"sentence\", num=1)\n",
    "print(\"Generated Sentence:\", generated_sentence)\n",
    "\n",
    "# Backtrack by 2 words\n",
    "iter_gen.backward(\"word\", num=2)\n",
    "\n",
    "# Inspect all words in the current generation\n",
    "current_words = iter_gen.view(\"word\")\n",
    "print(\"Current Words:\", current_words)"
   ]
  }
 ],
 "metadata": {
  "language_info": {
   "name": "python"
  }
 },
 "nbformat": 4,
 "nbformat_minor": 5
}
