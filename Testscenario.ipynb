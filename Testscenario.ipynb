{
 "cells": [
  {
   "cell_type": "code",
   "execution_count": 1,
   "id": "78299456",
   "metadata": {},
   "outputs": [
    {
     "name": "stderr",
     "output_type": "stream",
     "text": [
      "/home/alex/Desktop/coding/SDT/updated_itergen/itergen/.venv/lib/python3.12/site-packages/tqdm/auto.py:21: TqdmWarning: IProgress not found. Please update jupyter and ipywidgets. See https://ipywidgets.readthedocs.io/en/stable/user_install.html\n",
      "  from .autonotebook import tqdm as notebook_tqdm\n"
     ]
    },
    {
     "name": "stdout",
     "output_type": "stream",
     "text": [
      "[2025-07-27 17:25:08,330-root] - Loading model microsoft/Phi-3-mini-128k-instruct with device:cuda, device_map:auto, torch_dtype:torch.bfloat16\n",
      "[2025-07-27 17:25:08,804-transformers_modules.microsoft.Phi-3-mini-128k-instruct.072cb7562cb8c4adf682a8e186aaafa49469eb5d.modeling_phi3] - `flash-attention` package not found, consider installing for better performance: No module named 'flash_attn'.\n",
      "[2025-07-27 17:25:08,804-transformers_modules.microsoft.Phi-3-mini-128k-instruct.072cb7562cb8c4adf682a8e186aaafa49469eb5d.modeling_phi3] - Current `flash-attention` does not support `window_size`. Either upgrade or use `attn_implementation='eager'`.\n",
      "[2025-07-27 17:25:08,977-accelerate.utils.modeling] - We will use 90% of the memory on device 0 for storing the model, and 10% for the buffer to avoid OOM. You can set `max_memory` in to a higher value to use more memory (at your own risk).\n"
     ]
    },
    {
     "name": "stderr",
     "output_type": "stream",
     "text": [
      "Loading checkpoint shards: 100%|██████████| 2/2 [00:00<00:00,  2.49it/s]\n",
      "Special tokens have been added in the vocabulary, make sure the associated word embeddings are fine-tuned or trained.\n"
     ]
    },
    {
     "name": "stdout",
     "output_type": "stream",
     "text": [
      "[2025-07-27 17:25:10,482-transformers_modules.microsoft.Phi-3-mini-128k-instruct.072cb7562cb8c4adf682a8e186aaafa49469eb5d.modeling_phi3] - You are not running the flash-attention implementation, expect numerical differences.\n",
      "Generated Sentence: [',  in  a  world  where  the  inhabitants  were  all  humans  and  they  all  had  the  same']\n",
      "Current Words: [[', ', ' in ', ' a  ', 'world ', ' where ', ' the  ', 'inhabitants ', ' were ', ' all  ', 'humans  ', 'and  ', 'they  ', 'all ']]\n"
     ]
    }
   ],
   "source": [
    "from itergen.main import IterGen\n",
    "\n",
    "# Define the grammar\n",
    "grammar = \"\"\"\n",
    "start: paragraph\n",
    "paragraph: sentence+\n",
    "sentence: word+ sentence_end\n",
    "word: /[a-zA-Z0-9]+/ | other_punctuations\n",
    "sentence_end: \".\" | \"!\" | \"?\"\n",
    "other_punctuations: \",\" | \";\" | \":\" | \"'\"\n",
    "%ignore \" \"\n",
    "\"\"\"\n",
    "\n",
    "# Initialize IterGen with the grammar and a model with Hugging Face model ID\n",
    "iter_gen = IterGen(grammar=grammar, model_id=\"microsoft/Phi-3-mini-128k-instruct\", max_tokens=50)\n",
    "prompt = \"Once upon a time\"\n",
    "\n",
    "# Start generation\n",
    "iter_gen.start(prompt)\n",
    "\n",
    "# Generate one sentence\n",
    "generated_sentence = iter_gen.forward(stop_symbol=\"sentence\", num=1)\n",
    "print(\"Generated Sentence:\", generated_sentence)\n",
    "\n",
    "# Backtrack by 2 words\n",
    "iter_gen.backward(\"word\", num=2)\n",
    "\n",
    "# Inspect all words in the current generation\n",
    "current_words = iter_gen.view(\"word\")\n",
    "print(\"Current Words:\", current_words)"
   ]
  }
 ],
 "metadata": {
  "kernelspec": {
   "display_name": ".venv",
   "language": "python",
   "name": "python3"
  },
  "language_info": {
   "codemirror_mode": {
    "name": "ipython",
    "version": 3
   },
   "file_extension": ".py",
   "mimetype": "text/x-python",
   "name": "python",
   "nbconvert_exporter": "python",
   "pygments_lexer": "ipython3",
   "version": "3.12.11"
  }
 },
 "nbformat": 4,
 "nbformat_minor": 5
}
